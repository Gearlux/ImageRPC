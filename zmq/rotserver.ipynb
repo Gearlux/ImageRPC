{
 "cells": [
  {
   "cell_type": "markdown",
   "metadata": {},
   "source": [
    "# Rotation of an image\n",
    "\n",
    "This server implements the rotation of an image with zmq and protobuf.\n",
    "\n",
    "The protobuf message is very simple and consists of an `image` message with png bytes as field."
   ]
  },
  {
   "cell_type": "code",
   "execution_count": 1,
   "metadata": {},
   "outputs": [],
   "source": [
    "!protoc --python_out=. image.proto"
   ]
  },
  {
   "cell_type": "markdown",
   "metadata": {},
   "source": [
    "The server receives an images, parses it, decodes the png format.\n",
    "After this, the image is rotated, encoded and serialized to send it back."
   ]
  },
  {
   "cell_type": "code",
   "execution_count": null,
   "metadata": {},
   "outputs": [
    {
     "name": "stdout",
     "output_type": "stream",
     "text": [
      "Received image\n",
      "Received image\n",
      "Received image\n",
      "Received image\n",
      "Received image\n"
     ]
    }
   ],
   "source": [
    "import time\n",
    "import zmq\n",
    "\n",
    "import image_pb2\n",
    "import numpy as np\n",
    "import cv2\n",
    "\n",
    "context = zmq.Context()\n",
    "\n",
    "try:\n",
    "    with context.socket(zmq.REP) as socket:\n",
    "        socket.bind(\"tcp://*:5556\")\n",
    "\n",
    "        while True:\n",
    "            #  Wait for next request from client\n",
    "            message = socket.recv()\n",
    "            print(\"Received image\")\n",
    "\n",
    "            img = image_pb2.image()\n",
    "            img.ParseFromString(message)\n",
    "\n",
    "            phot90 = cv2.imdecode(np.frombuffer(img.png,dtype=np.byte),cv2.IMREAD_COLOR)\n",
    "            phot90 = cv2.rotate(phot90, cv2.ROTATE_90_CLOCKWISE)\n",
    "\n",
    "            r, buf = cv2.imencode(\".png\", phot90)\n",
    "            img.png = buf.tobytes()\n",
    "\n",
    "            #  Send reply back to client\n",
    "            socket.send(img.SerializeToString())\n",
    "finally:\n",
    "    context.term()"
   ]
  },
  {
   "cell_type": "markdown",
   "metadata": {},
   "source": [
    "You can interrupt the server if you're done"
   ]
  }
 ],
 "metadata": {
  "kernelspec": {
   "display_name": "Python 3",
   "language": "python",
   "name": "python3"
  },
  "language_info": {
   "codemirror_mode": {
    "name": "ipython",
    "version": 3
   },
   "file_extension": ".py",
   "mimetype": "text/x-python",
   "name": "python",
   "nbconvert_exporter": "python",
   "pygments_lexer": "ipython3",
   "version": "3.6.8"
  }
 },
 "nbformat": 4,
 "nbformat_minor": 2
}
