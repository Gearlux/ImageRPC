{
 "cells": [
  {
   "cell_type": "markdown",
   "metadata": {},
   "source": [
    "# Reimplementation of the hello world client\n",
    "\n",
    "This implementation should be more robust to run in a notebook.\n",
    "\n",
    "There is a server implementation in hwserver.\n",
    "Make sure the first cell of the hwserver is active."
   ]
  },
  {
   "cell_type": "code",
   "execution_count": 1,
   "metadata": {},
   "outputs": [
    {
     "name": "stdout",
     "output_type": "stream",
     "text": [
      "Connecting to hello world server...\n",
      "Sending request 0 ...\n",
      "Received reply 0 [ b'World' ]\n",
      "Sending request 1 ...\n",
      "Received reply 1 [ b'World' ]\n",
      "Sending request 2 ...\n",
      "Received reply 2 [ b'World' ]\n",
      "Sending request 3 ...\n",
      "Received reply 3 [ b'World' ]\n",
      "Sending request 4 ...\n",
      "Received reply 4 [ b'World' ]\n",
      "Sending request 5 ...\n",
      "Received reply 5 [ b'World' ]\n",
      "Sending request 6 ...\n",
      "Received reply 6 [ b'World' ]\n",
      "Sending request 7 ...\n",
      "Received reply 7 [ b'World' ]\n",
      "Sending request 8 ...\n",
      "Received reply 8 [ b'World' ]\n",
      "Sending request 9 ...\n",
      "Received reply 9 [ b'World' ]\n"
     ]
    }
   ],
   "source": [
    "#\n",
    "#   Hello World client in Python\n",
    "#   Connects REQ socket to tcp://localhost:5555\n",
    "#   Sends \"Hello\" to server, expects \"World\" back\n",
    "#\n",
    "import zmq\n",
    "\n",
    "context = zmq.Context()\n",
    "\n",
    "try:\n",
    "    #  Socket to talk to server\n",
    "    print(\"Connecting to hello world server...\")\n",
    "    with context.socket(zmq.REQ) as socket:\n",
    "        socket.connect(\"tcp://localhost:5555\")\n",
    "\n",
    "        #  Do 10 requests, waiting each time for a response\n",
    "        for request in range(10):\n",
    "            print(\"Sending request %s ...\" % request)\n",
    "            socket.send(b\"Hello\")\n",
    "\n",
    "            #  Get the reply.\n",
    "            message = socket.recv()\n",
    "            print(\"Received reply %s [ %s ]\" % (request, message))\n",
    "finally:\n",
    "    context.term()"
   ]
  }
 ],
 "metadata": {
  "kernelspec": {
   "display_name": "Python 3",
   "language": "python",
   "name": "python3"
  },
  "language_info": {
   "codemirror_mode": {
    "name": "ipython",
    "version": 3
   },
   "file_extension": ".py",
   "mimetype": "text/x-python",
   "name": "python",
   "nbconvert_exporter": "python",
   "pygments_lexer": "ipython3",
   "version": "3.6.8"
  }
 },
 "nbformat": 4,
 "nbformat_minor": 2
}
