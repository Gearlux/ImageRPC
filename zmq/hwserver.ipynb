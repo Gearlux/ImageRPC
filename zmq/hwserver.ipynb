{
 "cells": [
  {
   "cell_type": "markdown",
   "metadata": {},
   "source": [
    "# Reimplementation of the hello world server\n",
    "\n",
    "This implementation should be more robust to run in a notebook.\n",
    "\n",
    "There is an client implementation in hwclient."
   ]
  },
  {
   "cell_type": "code",
   "execution_count": null,
   "metadata": {},
   "outputs": [
    {
     "name": "stdout",
     "output_type": "stream",
     "text": [
      "Received request: b'Hello'\n",
      "Received request: b'Hello'\n",
      "Received request: b'Hello'\n",
      "Received request: b'Hello'\n",
      "Received request: b'Hello'\n",
      "Received request: b'Hello'\n",
      "Received request: b'Hello'\n",
      "Received request: b'Hello'\n",
      "Received request: b'Hello'\n",
      "Received request: b'Hello'\n"
     ]
    }
   ],
   "source": [
    "#\n",
    "#   Hello World server in Python\n",
    "#   Binds REP socket to tcp://*:5555\n",
    "#   Expects b\"Hello\" from client, replies with b\"World\"\n",
    "#\n",
    "\n",
    "import time\n",
    "import zmq\n",
    "\n",
    "context = zmq.Context()\n",
    "\n",
    "try:\n",
    "    with context.socket(zmq.REP) as socket:\n",
    "        socket.bind(\"tcp://*:5555\")\n",
    "\n",
    "        while True:\n",
    "            #  Wait for next request from client\n",
    "            message = socket.recv()\n",
    "            print(\"Received request: %s\" % message)\n",
    "\n",
    "            #  Do some 'work'\n",
    "            # time.sleep(1)\n",
    "\n",
    "            #  Send reply back to client\n",
    "            socket.send(b\"World\")\n",
    "finally:\n",
    "    context.term()"
   ]
  }
 ],
 "metadata": {
  "kernelspec": {
   "display_name": "Python 3",
   "language": "python",
   "name": "python3"
  },
  "language_info": {
   "codemirror_mode": {
    "name": "ipython",
    "version": 3
   },
   "file_extension": ".py",
   "mimetype": "text/x-python",
   "name": "python",
   "nbconvert_exporter": "python",
   "pygments_lexer": "ipython3",
   "version": "3.6.8"
  }
 },
 "nbformat": 4,
 "nbformat_minor": 2
}
