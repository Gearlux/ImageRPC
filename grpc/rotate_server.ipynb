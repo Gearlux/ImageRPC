{
 "cells": [
  {
   "cell_type": "markdown",
   "metadata": {},
   "source": [
    "!pip install grpcio\n",
    "\n",
    "!pip install grpcio-tools\n",
    "\n",
    "!python -m grpc_tools.protoc -I. --python_out=. --grpc_python_out=. image.proto"
   ]
  },
  {
   "cell_type": "code",
   "execution_count": 1,
   "metadata": {},
   "outputs": [],
   "source": [
    "!python -m grpc_tools.protoc -I. --python_out=. --grpc_python_out=. image.proto"
   ]
  },
  {
   "cell_type": "code",
   "execution_count": 8,
   "metadata": {},
   "outputs": [],
   "source": [
    "from concurrent import futures\n",
    "import time\n",
    "import logging\n",
    "\n",
    "import grpc\n",
    "import cv2\n",
    "import numpy as np\n",
    "\n",
    "import image_pb2\n",
    "import image_pb2_grpc\n",
    "\n",
    "_ONE_DAY_IN_SECONDS = 60 * 60 * 24\n",
    "\n",
    "\n",
    "class Rotater(image_pb2_grpc.RotateServicer):\n",
    "\n",
    "    def rot90(self, request, context):\n",
    "        img = cv2.imdecode(np.frombuffer(request.png,dtype=np.byte),cv2.IMREAD_COLOR)\n",
    "        phot90 = cv2.rotate(img, cv2.ROTATE_90_CLOCKWISE)\n",
    "\n",
    "        r, buf = cv2.imencode(\".png\", phot90)\n",
    "        return image_pb2.image(png = buf.tobytes())\n",
    "    \n",
    "    def raw_rot90(self, request, context):\n",
    "        img = np.frombuffer(request.raw, dtype=np.uint8).reshape(request.rows, request.cols, 3)\n",
    "        phot90 = cv2.rotate(img, cv2.ROTATE_90_CLOCKWISE)\n",
    "        ret = image_pb2.raw_image()\n",
    "        ret.raw = phot90.tobytes()\n",
    "        ret.rows = phot90.shape[0]\n",
    "        ret.cols = phot90.shape[1]\n",
    "        return ret\n",
    "\n",
    "\n",
    "def serve():\n",
    "    server = grpc.server(futures.ThreadPoolExecutor(max_workers=10))\n",
    "    image_pb2_grpc.add_RotateServicer_to_server(Rotater(), server)\n",
    "    server.add_insecure_port('[::]:50051')\n",
    "    server.start()\n",
    "    try:\n",
    "        while True:\n",
    "            time.sleep(_ONE_DAY_IN_SECONDS)\n",
    "    except KeyboardInterrupt:\n",
    "        server.stop(0)"
   ]
  },
  {
   "cell_type": "code",
   "execution_count": null,
   "metadata": {},
   "outputs": [],
   "source": [
    "logging.basicConfig()\n",
    "serve()"
   ]
  },
  {
   "cell_type": "code",
   "execution_count": null,
   "metadata": {},
   "outputs": [],
   "source": []
  }
 ],
 "metadata": {
  "kernelspec": {
   "display_name": "Python 3",
   "language": "python",
   "name": "python3"
  },
  "language_info": {
   "codemirror_mode": {
    "name": "ipython",
    "version": 3
   },
   "file_extension": ".py",
   "mimetype": "text/x-python",
   "name": "python",
   "nbconvert_exporter": "python",
   "pygments_lexer": "ipython3",
   "version": "3.6.8"
  }
 },
 "nbformat": 4,
 "nbformat_minor": 2
}
