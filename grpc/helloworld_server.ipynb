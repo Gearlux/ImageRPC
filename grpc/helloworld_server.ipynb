{
 "cells": [
  {
   "cell_type": "code",
   "execution_count": 4,
   "metadata": {},
   "outputs": [
    {
     "name": "stdout",
     "output_type": "stream",
     "text": [
      "Requirement already satisfied: grpcio in /Users/gert/anaconda3/envs/ptc/lib/python3.6/site-packages (1.16.1)\n",
      "Requirement already satisfied: six>=1.5.2 in /Users/gert/anaconda3/envs/ptc/lib/python3.6/site-packages (from grpcio) (1.12.0)\n",
      "Requirement already satisfied: grpcio-tools in /Users/gert/anaconda3/envs/ptc/lib/python3.6/site-packages (1.16.1)\n",
      "Requirement already satisfied: grpcio>=1.16.1 in /Users/gert/anaconda3/envs/ptc/lib/python3.6/site-packages (from grpcio-tools) (1.16.1)\n",
      "Requirement already satisfied: protobuf>=3.5.0.post1 in /Users/gert/anaconda3/envs/ptc/lib/python3.6/site-packages (from grpcio-tools) (3.7.1)\n",
      "Requirement already satisfied: six>=1.5.2 in /Users/gert/anaconda3/envs/ptc/lib/python3.6/site-packages (from grpcio>=1.16.1->grpcio-tools) (1.12.0)\n",
      "Requirement already satisfied: setuptools in /Users/gert/anaconda3/envs/ptc/lib/python3.6/site-packages (from protobuf>=3.5.0.post1->grpcio-tools) (41.0.1)\n"
     ]
    }
   ],
   "source": [
    "!pip install grpcio\n",
    "!pip install grpcio-tools"
   ]
  },
  {
   "cell_type": "code",
   "execution_count": 6,
   "metadata": {},
   "outputs": [],
   "source": [
    "!python -m grpc_tools.protoc -I. --python_out=. --grpc_python_out=. helloworld.proto"
   ]
  },
  {
   "cell_type": "code",
   "execution_count": 9,
   "metadata": {},
   "outputs": [],
   "source": [
    "# Copyright 2015 gRPC authors.\n",
    "#\n",
    "# Licensed under the Apache License, Version 2.0 (the \"License\");\n",
    "# you may not use this file except in compliance with the License.\n",
    "# You may obtain a copy of the License at\n",
    "#\n",
    "#     http://www.apache.org/licenses/LICENSE-2.0\n",
    "#\n",
    "# Unless required by applicable law or agreed to in writing, software\n",
    "# distributed under the License is distributed on an \"AS IS\" BASIS,\n",
    "# WITHOUT WARRANTIES OR CONDITIONS OF ANY KIND, either express or implied.\n",
    "# See the License for the specific language governing permissions and\n",
    "# limitations under the License.\n",
    "\"\"\"The Python implementation of the GRPC helloworld.Greeter server.\"\"\"\n",
    "\n",
    "from concurrent import futures\n",
    "import time\n",
    "import logging\n",
    "\n",
    "import grpc\n",
    "\n",
    "import helloworld_pb2\n",
    "import helloworld_pb2_grpc\n",
    "\n",
    "_ONE_DAY_IN_SECONDS = 60 * 60 * 24\n",
    "\n",
    "\n",
    "class Greeter(helloworld_pb2_grpc.GreeterServicer):\n",
    "\n",
    "    def SayHello(self, request, context):\n",
    "        return helloworld_pb2.HelloReply(message='Hello, %s!' % request.name)\n",
    "\n",
    "\n",
    "def serve():\n",
    "    server = grpc.server(futures.ThreadPoolExecutor(max_workers=10))\n",
    "    helloworld_pb2_grpc.add_GreeterServicer_to_server(Greeter(), server)\n",
    "    server.add_insecure_port('[::]:50051')\n",
    "    server.start()\n",
    "    try:\n",
    "        while True:\n",
    "            time.sleep(_ONE_DAY_IN_SECONDS)\n",
    "    except KeyboardInterrupt:\n",
    "        server.stop(0)"
   ]
  },
  {
   "cell_type": "code",
   "execution_count": 10,
   "metadata": {},
   "outputs": [],
   "source": [
    "logging.basicConfig()\n",
    "serve()"
   ]
  },
  {
   "cell_type": "code",
   "execution_count": null,
   "metadata": {},
   "outputs": [],
   "source": []
  }
 ],
 "metadata": {
  "kernelspec": {
   "display_name": "Python 3",
   "language": "python",
   "name": "python3"
  },
  "language_info": {
   "codemirror_mode": {
    "name": "ipython",
    "version": 3
   },
   "file_extension": ".py",
   "mimetype": "text/x-python",
   "name": "python",
   "nbconvert_exporter": "python",
   "pygments_lexer": "ipython3",
   "version": "3.6.8"
  }
 },
 "nbformat": 4,
 "nbformat_minor": 2
}
